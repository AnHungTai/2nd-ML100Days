{
 "cells": [
  {
   "cell_type": "markdown",
   "metadata": {},
   "source": [
    "# 作業重點\n",
    "\n",
    "使用function y=(x+5)² 來練習學習率( leanrning rate ) 調整所造成的影響"
   ]
  },
  {
   "cell_type": "markdown",
   "metadata": {},
   "source": [
    "# 作業目標:\n",
    "    請嘗試使用不同的組合驗證 learning rate 對所需 iteration 的影響\n",
    "    lr = [0.1, 0.0001]\n",
    "    主要驗證 Lr 對於grandient 收斂的速度\n",
    "    "
   ]
  },
  {
   "cell_type": "code",
   "execution_count": 1,
   "metadata": {},
   "outputs": [],
   "source": [
    "precision = 0.000001 #This tells us when to stop the algorithm\n",
    "max_iters = 10000 # maximum number of iterations\n",
    "df = lambda x: 2*(x+5) #Gradient of our function \n",
    "\n",
    "lr = [0.1, 0.01, 0.0001] # Learning rate\n",
    "max_iters = 10000 # maximum number of iterations\n",
    "df = lambda x: 2*(x+5) #Gradient of our function \n",
    "iters = 0\n",
    "cur_x = 3\n",
    "iters_history={}\n",
    "x_history={}\n",
    "iters_history[0.1] = [iters]\n",
    "iters_history[0.01] = [iters]\n",
    "iters_history[0.0001] = [iters]\n",
    "x_history[0.1] = [cur_x]\n",
    "x_history[0.01] = [cur_x]\n",
    "x_history[0.0001] = [cur_x]"
   ]
  },
  {
   "cell_type": "code",
   "execution_count": 2,
   "metadata": {},
   "outputs": [],
   "source": [
    "for i in lr:\n",
    "    iters = 0 #iteration counter\n",
    "    previous_step_size = 1 #\n",
    "    cur_x = 3 # The algorithm starts at x=3\n",
    "    while previous_step_size > precision and iters < max_iters:\n",
    "        prev_x = cur_x #Store current x value in prev_x\n",
    "        cur_x = cur_x - i * df(prev_x) #Gradient descent\n",
    "        previous_step_size = abs(cur_x - prev_x) # 取較大的值, Change in x\n",
    "        iters = iters+1 #iteration count\n",
    "         # Store parameters for plotting\n",
    "        iters_history[i].append(iters)\n",
    "        x_history[i].append(cur_x)\n",
    "        #if iters % 5 == 0:\n",
    "        #    print(\"Iteration\",iters,\"\\nX value is\",cur_x) #Print iterations"
   ]
  },
  {
   "cell_type": "code",
   "execution_count": 3,
   "metadata": {},
   "outputs": [
    {
     "data": {
      "image/png": "[encoded data removed]",
      "text/plain": [
       "<Figure size 432x288 with 1 Axes>"
      ]
     },
     "metadata": {
      "needs_background": "light"
     },
     "output_type": "display_data"
    }
   ],
   "source": [
    "import matplotlib.pyplot as plt\n",
    "%matplotlib inline \n",
    "#適用於 Jupyter Notebook, 宣告直接在cell 內印出執行結果\n",
    "\n",
    "plt.plot(iters_history[lr[0]], x_history[lr[0]], 'o-', ms=3, lw=1.5, color='red')\n",
    "plt.plot(iters_history[lr[1]], x_history[lr[1]], 'o-', ms=3, lw=1.5, color='blue')\n",
    "plt.plot(iters_history[lr[2]], x_history[lr[2]], 'o-', ms=3, lw=1.5, color='black')\n",
    "plt.xlabel(r'$iters$', fontsize=16)\n",
    "plt.ylabel(r'$x$', fontsize=16)\n",
    "plt.xscale(\"log\")\n",
    "plt.legend([lr[0], lr[1], lr[2]])\n",
    "plt.show()"
   ]
  },
  {
   "cell_type": "code",
   "execution_count": null,
   "metadata": {},
   "outputs": [],
   "source": []
  }
 ],
 "metadata": {
  "kernelspec": {
   "display_name": "Python 3",
   "language": "python",
   "name": "python3"
  },
  "language_info": {
   "codemirror_mode": {
    "name": "ipython",
    "version": 3
   },
   "file_extension": ".py",
   "mimetype": "text/x-python",
   "name": "python",
   "nbconvert_exporter": "python",
   "pygments_lexer": "ipython3",
   "version": "3.7.3"
  }
 },
 "nbformat": 4,
 "nbformat_minor": 2
}
