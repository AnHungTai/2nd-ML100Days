{
 "cells": [
  {
   "cell_type": "markdown",
   "metadata": {
    "collapsed": true
   },
   "source": [
    "# 作業 : (Kaggle)鐵達尼生存預測\n",
    "https://www.kaggle.com/c/titanic"
   ]
  },
  {
   "cell_type": "markdown",
   "metadata": {},
   "source": [
    "# [作業目標]\n",
    "- 試著模仿範例寫法, 在鐵達尼生存預測中, 觀察填補缺值以及 標準化 / 最小最大化 對數值的影響"
   ]
  },
  {
   "cell_type": "markdown",
   "metadata": {},
   "source": [
    "# [作業重點]\n",
    "- 觀察替換不同補缺方式, 對於特徵的影響 (In[4]~In[6], Out[4]~Out[6])\n",
    "- 觀察替換不同特徵縮放方式, 對於特徵的影響 (In[7]~In[8], Out[7]~Out[8])"
   ]
  },
  {
   "cell_type": "code",
   "execution_count": 1,
   "metadata": {},
   "outputs": [
    {
     "data": {
      "text/html": [
       "<div>\n",
       "<style scoped>\n",
       "    .dataframe tbody tr th:only-of-type {\n",
       "        vertical-align: middle;\n",
       "    }\n",
       "\n",
       "    .dataframe tbody tr th {\n",
       "        vertical-align: top;\n",
       "    }\n",
       "\n",
       "    .dataframe thead th {\n",
       "        text-align: right;\n",
       "    }\n",
       "</style>\n",
       "<table border=\"1\" class=\"dataframe\">\n",
       "  <thead>\n",
       "    <tr style=\"text-align: right;\">\n",
       "      <th></th>\n",
       "      <th>Pclass</th>\n",
       "      <th>Name</th>\n",
       "      <th>Sex</th>\n",
       "      <th>Age</th>\n",
       "      <th>SibSp</th>\n",
       "      <th>Parch</th>\n",
       "      <th>Ticket</th>\n",
       "      <th>Fare</th>\n",
       "      <th>Cabin</th>\n",
       "      <th>Embarked</th>\n",
       "    </tr>\n",
       "  </thead>\n",
       "  <tbody>\n",
       "    <tr>\n",
       "      <th>0</th>\n",
       "      <td>3</td>\n",
       "      <td>Braund, Mr. Owen Harris</td>\n",
       "      <td>male</td>\n",
       "      <td>22.0</td>\n",
       "      <td>1</td>\n",
       "      <td>0</td>\n",
       "      <td>A/5 21171</td>\n",
       "      <td>7.2500</td>\n",
       "      <td>NaN</td>\n",
       "      <td>S</td>\n",
       "    </tr>\n",
       "    <tr>\n",
       "      <th>1</th>\n",
       "      <td>1</td>\n",
       "      <td>Cumings, Mrs. John Bradley (Florence Briggs Th...</td>\n",
       "      <td>female</td>\n",
       "      <td>38.0</td>\n",
       "      <td>1</td>\n",
       "      <td>0</td>\n",
       "      <td>PC 17599</td>\n",
       "      <td>71.2833</td>\n",
       "      <td>C85</td>\n",
       "      <td>C</td>\n",
       "    </tr>\n",
       "    <tr>\n",
       "      <th>2</th>\n",
       "      <td>3</td>\n",
       "      <td>Heikkinen, Miss. Laina</td>\n",
       "      <td>female</td>\n",
       "      <td>26.0</td>\n",
       "      <td>0</td>\n",
       "      <td>0</td>\n",
       "      <td>STON/O2. 3101282</td>\n",
       "      <td>7.9250</td>\n",
       "      <td>NaN</td>\n",
       "      <td>S</td>\n",
       "    </tr>\n",
       "    <tr>\n",
       "      <th>3</th>\n",
       "      <td>1</td>\n",
       "      <td>Futrelle, Mrs. Jacques Heath (Lily May Peel)</td>\n",
       "      <td>female</td>\n",
       "      <td>35.0</td>\n",
       "      <td>1</td>\n",
       "      <td>0</td>\n",
       "      <td>113803</td>\n",
       "      <td>53.1000</td>\n",
       "      <td>C123</td>\n",
       "      <td>S</td>\n",
       "    </tr>\n",
       "    <tr>\n",
       "      <th>4</th>\n",
       "      <td>3</td>\n",
       "      <td>Allen, Mr. William Henry</td>\n",
       "      <td>male</td>\n",
       "      <td>35.0</td>\n",
       "      <td>0</td>\n",
       "      <td>0</td>\n",
       "      <td>373450</td>\n",
       "      <td>8.0500</td>\n",
       "      <td>NaN</td>\n",
       "      <td>S</td>\n",
       "    </tr>\n",
       "  </tbody>\n",
       "</table>\n",
       "</div>"
      ],
      "text/plain": [
       "   Pclass                                               Name     Sex   Age  \\\n",
       "0       3                            Braund, Mr. Owen Harris    male  22.0   \n",
       "1       1  Cumings, Mrs. John Bradley (Florence Briggs Th...  female  38.0   \n",
       "2       3                             Heikkinen, Miss. Laina  female  26.0   \n",
       "3       1       Futrelle, Mrs. Jacques Heath (Lily May Peel)  female  35.0   \n",
       "4       3                           Allen, Mr. William Henry    male  35.0   \n",
       "\n",
       "   SibSp  Parch            Ticket     Fare Cabin Embarked  \n",
       "0      1      0         A/5 21171   7.2500   NaN        S  \n",
       "1      1      0          PC 17599  71.2833   C85        C  \n",
       "2      0      0  STON/O2. 3101282   7.9250   NaN        S  \n",
       "3      1      0            113803  53.1000  C123        S  \n",
       "4      0      0            373450   8.0500   NaN        S  "
      ]
     },
     "execution_count": 1,
     "metadata": {},
     "output_type": "execute_result"
    }
   ],
   "source": [
    "# 做完特徵工程前的所有準備 (與前範例相同)\n",
    "import pandas as pd\n",
    "import numpy as np\n",
    "import copy\n",
    "from sklearn.preprocessing import MinMaxScaler, StandardScaler\n",
    "from sklearn.model_selection import cross_val_score\n",
    "from sklearn.linear_model import LogisticRegression\n",
    "\n",
    "# 忽略警告訊息\n",
    "%matplotlib inline\n",
    "import warnings\n",
    "warnings.filterwarnings('ignore')\n",
    "\n",
    "data_path = '../data/'\n",
    "df_train = pd.read_csv(data_path + 'titanic_train.csv')\n",
    "df_test = pd.read_csv(data_path + 'titanic_test.csv')\n",
    "\n",
    "train_Y = df_train['Survived']\n",
    "ids = df_test['PassengerId']\n",
    "df_train = df_train.drop(['PassengerId', 'Survived'] , axis=1)\n",
    "df_test = df_test.drop(['PassengerId'] , axis=1)\n",
    "df = pd.concat([df_train,df_test])\n",
    "df.head()"
   ]
  },
  {
   "cell_type": "code",
   "execution_count": 2,
   "metadata": {},
   "outputs": [
    {
     "name": "stdout",
     "output_type": "stream",
     "text": [
      "5 Numeric Features : ['Pclass', 'Age', 'SibSp', 'Parch', 'Fare']\n",
      "\n"
     ]
    }
   ],
   "source": [
    "#只取 int64, float64 兩種數值型欄位, 存於 num_features 中\n",
    "num_features = []\n",
    "for dtype, feature in zip(df.dtypes, df.columns):\n",
    "    if dtype == 'float64' or dtype == 'int64':\n",
    "        num_features.append(feature)\n",
    "print(f'{len(num_features)} Numeric Features : {num_features}\\n')"
   ]
  },
  {
   "cell_type": "code",
   "execution_count": 3,
   "metadata": {},
   "outputs": [
    {
     "data": {
      "text/html": [
       "<div>\n",
       "<style scoped>\n",
       "    .dataframe tbody tr th:only-of-type {\n",
       "        vertical-align: middle;\n",
       "    }\n",
       "\n",
       "    .dataframe tbody tr th {\n",
       "        vertical-align: top;\n",
       "    }\n",
       "\n",
       "    .dataframe thead th {\n",
       "        text-align: right;\n",
       "    }\n",
       "</style>\n",
       "<table border=\"1\" class=\"dataframe\">\n",
       "  <thead>\n",
       "    <tr style=\"text-align: right;\">\n",
       "      <th></th>\n",
       "      <th>Pclass</th>\n",
       "      <th>Age</th>\n",
       "      <th>SibSp</th>\n",
       "      <th>Parch</th>\n",
       "      <th>Fare</th>\n",
       "    </tr>\n",
       "  </thead>\n",
       "  <tbody>\n",
       "    <tr>\n",
       "      <th>0</th>\n",
       "      <td>3</td>\n",
       "      <td>22.0</td>\n",
       "      <td>1</td>\n",
       "      <td>0</td>\n",
       "      <td>7.2500</td>\n",
       "    </tr>\n",
       "    <tr>\n",
       "      <th>1</th>\n",
       "      <td>1</td>\n",
       "      <td>38.0</td>\n",
       "      <td>1</td>\n",
       "      <td>0</td>\n",
       "      <td>71.2833</td>\n",
       "    </tr>\n",
       "    <tr>\n",
       "      <th>2</th>\n",
       "      <td>3</td>\n",
       "      <td>26.0</td>\n",
       "      <td>0</td>\n",
       "      <td>0</td>\n",
       "      <td>7.9250</td>\n",
       "    </tr>\n",
       "    <tr>\n",
       "      <th>3</th>\n",
       "      <td>1</td>\n",
       "      <td>35.0</td>\n",
       "      <td>1</td>\n",
       "      <td>0</td>\n",
       "      <td>53.1000</td>\n",
       "    </tr>\n",
       "    <tr>\n",
       "      <th>4</th>\n",
       "      <td>3</td>\n",
       "      <td>35.0</td>\n",
       "      <td>0</td>\n",
       "      <td>0</td>\n",
       "      <td>8.0500</td>\n",
       "    </tr>\n",
       "  </tbody>\n",
       "</table>\n",
       "</div>"
      ],
      "text/plain": [
       "   Pclass   Age  SibSp  Parch     Fare\n",
       "0       3  22.0      1      0   7.2500\n",
       "1       1  38.0      1      0  71.2833\n",
       "2       3  26.0      0      0   7.9250\n",
       "3       1  35.0      1      0  53.1000\n",
       "4       3  35.0      0      0   8.0500"
      ]
     },
     "execution_count": 3,
     "metadata": {},
     "output_type": "execute_result"
    }
   ],
   "source": [
    "# 削減文字型欄位, 只剩數值型欄位\n",
    "df = df[num_features]\n",
    "train_num = train_Y.shape[0]\n",
    "df.head()"
   ]
  },
  {
   "cell_type": "markdown",
   "metadata": {
    "collapsed": true
   },
   "source": [
    "# 作業1\n",
    "* 試著在補空值區塊, 替換並執行兩種以上填補的缺值, 看看何者比較好?"
   ]
  },
  {
   "cell_type": "code",
   "execution_count": 4,
   "metadata": {},
   "outputs": [
    {
     "name": "stdout",
     "output_type": "stream",
     "text": [
      "Fill in 0, CV score = 0.697154\n",
      "Fill in -1, CV score = 0.696030\n",
      "Fill in mean, CV score = 0.698176\n",
      "Fill in median, CV score = 0.699293\n"
     ]
    }
   ],
   "source": [
    "\"\"\"\n",
    "Your Code Here\n",
    "\"\"\"\n",
    "estimator = LogisticRegression()\n",
    "\n",
    "# 空值補 0, 做羅吉斯迴歸\n",
    "df_m0 = df.fillna(0)\n",
    "train_X = df_m0[:train_num]\n",
    "fillna0_cv = cross_val_score(estimator, train_X, train_Y, cv=5).mean()\n",
    "\n",
    "# 空值補 -1, 做羅吉斯迴歸\n",
    "df_m1 = df.fillna(-1)\n",
    "train_X = df_m1[:train_num]\n",
    "fillna1_cv = cross_val_score(estimator, train_X, train_Y, cv=5).mean()\n",
    "\n",
    "# 空值補平均, 做羅吉斯迴歸\n",
    "df_mmean = df.fillna(df.mean())\n",
    "train_X = df_mmean[:train_num]\n",
    "fillnamean_cv = cross_val_score(estimator, train_X, train_Y, cv=5).mean()\n",
    "\n",
    "# 空值補中位數, 做羅吉斯迴歸\n",
    "df_mmedian = df.fillna(df.median())\n",
    "train_X = df_mmedian[:train_num]\n",
    "fillnamedian_cv = cross_val_score(estimator, train_X, train_Y, cv=5).mean()\n",
    "\n",
    "print('Fill in 0, CV score = %f' % fillna0_cv)\n",
    "print('Fill in -1, CV score = %f' % fillna1_cv)\n",
    "print('Fill in mean, CV score = %f' % fillnamean_cv)\n",
    "print('Fill in median, CV score = %f' % fillnamedian_cv)\n"
   ]
  },
  {
   "cell_type": "markdown",
   "metadata": {
    "collapsed": true
   },
   "source": [
    "# 作業2\n",
    "* 使用不同的標準化方式 ( 原值 / 最小最大化 / 標準化 )，搭配羅吉斯迴歸模型，何者效果最好?<br>\n",
    "Answer: fill in 0 "
   ]
  },
  {
   "cell_type": "code",
   "execution_count": 5,
   "metadata": {},
   "outputs": [
    {
     "name": "stdout",
     "output_type": "stream",
     "text": [
      "Fill in 0, CV score = 0.697154\n",
      "Fill in 0, MinMaxScaler, CV score = 0.701629\n",
      "Fill in 0, StandardScaler, CV score = 0.698258\n",
      "================================================\n",
      "Fill in -1, CV score = 0.696030\n",
      "Fill in -1, MinMaxScaler, CV score = 0.697135\n",
      "Fill in -1, StandardScaler, CV score = 0.698258\n",
      "================================================\n",
      "Fill in mean, CV score = 0.698176\n",
      "Fill in mean, MinMaxScaler, CV score = 0.699350\n",
      "Fill in mean, StandardScaler, CV score = 0.695941\n",
      "================================================\n",
      "Fill in median, CV score = 0.699293\n",
      "Fill in median, MinMaxScaler, CV score = 0.698233\n",
      "Fill in median, StandardScaler, CV score = 0.697059\n"
     ]
    }
   ],
   "source": [
    "\"\"\"\n",
    "Your Code Here\n",
    "\"\"\"\n",
    "# MinMaxScaler\n",
    "    # fill in 0\n",
    "df_m0_minmax = MinMaxScaler().fit_transform(df_m0)\n",
    "train_X = df_m0_minmax[:train_num]\n",
    "minmax0_cv = cross_val_score(estimator, train_X, train_Y, cv=5).mean()\n",
    "    # fill in -1\n",
    "df_m1_minmax = MinMaxScaler().fit_transform(df_m1)\n",
    "train_X = df_m1_minmax[:train_num]\n",
    "minmax1_cv = cross_val_score(estimator, train_X, train_Y, cv=5).mean()\n",
    "    # fill in mean\n",
    "df_mmean_minmax = MinMaxScaler().fit_transform(df_mmean)\n",
    "train_X = df_mmean_minmax[:train_num]\n",
    "minmaxmean_cv = cross_val_score(estimator, train_X, train_Y, cv=5).mean()\n",
    "    # fill in median\n",
    "df_mmedian_minmax = MinMaxScaler().fit_transform(df_mmedian)\n",
    "train_X = df_mmedian_minmax[:train_num]\n",
    "minmaxmedian_cv = cross_val_score(estimator, train_X, train_Y, cv=5).mean()\n",
    "\n",
    "# StandardScaler\n",
    "    # fill in 0\n",
    "df_m0_standard = StandardScaler().fit_transform(df_m0)\n",
    "train_X = df_m0_standard[:train_num]\n",
    "standard0_cv = cross_val_score(estimator, train_X, train_Y, cv=5).mean()\n",
    "    # fill in -1\n",
    "df_m1_standard = StandardScaler().fit_transform(df_m1)\n",
    "train_X = df_m1_standard[:train_num]\n",
    "standard1_cv = cross_val_score(estimator, train_X, train_Y, cv=5).mean()\n",
    "    # fill in mean\n",
    "df_mmean_standard = StandardScaler().fit_transform(df_mmean)\n",
    "train_X = df_mmean_standard[:train_num]\n",
    "standardmean_cv = cross_val_score(estimator, train_X, train_Y, cv=5).mean()\n",
    "    # fill in median\n",
    "df_mmedian_standard = StandardScaler().fit_transform(df_mmedian)\n",
    "train_X = df_mmedian_standard[:train_num]\n",
    "standardmedian_cv = cross_val_score(estimator, train_X, train_Y, cv=5).mean()\n",
    "\n",
    "print('Fill in 0, CV score = %f' % fillna0_cv)\n",
    "print('Fill in 0, MinMaxScaler, CV score = %f' % minmax0_cv)\n",
    "print('Fill in 0, StandardScaler, CV score = %f' % standard0_cv)\n",
    "print('================================================')\n",
    "print('Fill in -1, CV score = %f' % fillna1_cv)\n",
    "print('Fill in -1, MinMaxScaler, CV score = %f' % minmax1_cv)\n",
    "print('Fill in -1, StandardScaler, CV score = %f' % standard1_cv)\n",
    "print('================================================')\n",
    "print('Fill in mean, CV score = %f' % fillnamean_cv)\n",
    "print('Fill in mean, MinMaxScaler, CV score = %f' % minmaxmean_cv)\n",
    "print('Fill in mean, StandardScaler, CV score = %f' % standardmean_cv)\n",
    "print('================================================')\n",
    "print('Fill in median, CV score = %f' % fillnamedian_cv)\n",
    "print('Fill in median, MinMaxScaler, CV score = %f' % minmaxmedian_cv)\n",
    "print('Fill in median, StandardScaler, CV score = %f' % standardmedian_cv)"
   ]
  },
  {
   "cell_type": "code",
   "execution_count": 6,
   "metadata": {},
   "outputs": [
    {
     "name": "stdout",
     "output_type": "stream",
     "text": [
      "Best VC score = 0.699293 in Original by filling na with median\n",
      "Best VC score = 0.701629 in MiniMax by filling na with 0\n",
      "Best VC score = 0.698258 in Standard by filling na with -1\n"
     ]
    }
   ],
   "source": [
    "dir = {'Original':[fillna0_cv, fillna1_cv, fillnamean_cv, fillnamedian_cv], 'MiniMax':[minmax0_cv, minmax1_cv, minmaxmean_cv, minmaxmedian_cv], \\\n",
    "           'Standard':[standard0_cv, standard1_cv, standardmean_cv, standardmedian_cv]}\n",
    "df = pd.DataFrame(dir, index=['filling na with 0', 'filling na with -1', 'filling na with mean', 'filling na with median'])\n",
    "for column in df.columns:\n",
    "    score = df[column].max()\n",
    "    for index in df.index:\n",
    "        if df.loc[index, column] == score:\n",
    "            method = index\n",
    "    print('Best VC score = %f in %s by %s' % (score, str(column), str(method)))"
   ]
  }
 ],
 "metadata": {
  "kernelspec": {
   "display_name": "Python 3",
   "language": "python",
   "name": "python3"
  },
  "language_info": {
   "codemirror_mode": {
    "name": "ipython",
    "version": 3
   },
   "file_extension": ".py",
   "mimetype": "text/x-python",
   "name": "python",
   "nbconvert_exporter": "python",
   "pygments_lexer": "ipython3",
   "version": "3.7.3"
  }
 },
 "nbformat": 4,
 "nbformat_minor": 2
}
