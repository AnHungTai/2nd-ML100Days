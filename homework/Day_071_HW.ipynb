{
 "cells": [
  {
   "cell_type": "markdown",
   "metadata": {
    "colab_type": "text",
    "id": "cj4tE8e8iUtO"
   },
   "source": [
    "#   \n",
    "\n",
    "# 作業目標:\n",
    "\n",
    "    1. 藉由固定的 dataset, 來驗證不同loss function\n",
    "    2. Dataset 的特性跟我們選用的loss function 對accrancy 的影響\n",
    "    \n",
    "    \n",
    "# 作業重點: \n",
    "    請分別選用 \"MSE\", \"binary _crossentropy\"\n",
    "    查看Train/test accurancy and loss rate\n",
    "    "
   ]
  },
  {
   "cell_type": "markdown",
   "metadata": {
    "colab_type": "text",
    "id": "R51J4KyyiUsL"
   },
   "source": [
    "# 導入必要的函數"
   ]
  },
  {
   "cell_type": "code",
   "execution_count": 1,
   "metadata": {
    "colab": {},
    "colab_type": "code",
    "id": "Qd68OQjciUsM"
   },
   "outputs": [
    {
     "name": "stderr",
     "output_type": "stream",
     "text": [
      "Using TensorFlow backend.\n"
     ]
    }
   ],
   "source": [
    "from keras.datasets import cifar10\n",
    "import numpy as np\n",
    "import matplotlib.pyplot as plt\n",
    "\n",
    "%matplotlib inline\n",
    "np.random.seed(10)"
   ]
  },
  {
   "cell_type": "markdown",
   "metadata": {
    "colab_type": "text",
    "id": "GxKuzQLQiUsP"
   },
   "source": [
    "# 資料準備"
   ]
  },
  {
   "cell_type": "code",
   "execution_count": 2,
   "metadata": {
    "colab": {},
    "colab_type": "code",
    "id": "MIbFZdTCiUsQ"
   },
   "outputs": [],
   "source": [
    "#取得Keras Dataset\n",
    "(x_img_train,y_label_train),(x_img_test,y_label_test)=cifar10.load_data()"
   ]
  },
  {
   "cell_type": "code",
   "execution_count": 3,
   "metadata": {
    "colab": {},
    "colab_type": "code",
    "id": "J8CJVjNOiUsS"
   },
   "outputs": [
    {
     "name": "stdout",
     "output_type": "stream",
     "text": [
      "train data: images: (50000, 32, 32, 3)  labels: (50000, 1)\n",
      "test  data: images: (10000, 32, 32, 3)  labels: (10000, 1)\n"
     ]
    }
   ],
   "source": [
    "#確認 CIFAR10 Dataset 資料維度\n",
    "print(\"train data:\",'images:',x_img_train.shape,\n",
    "      \" labels:\",y_label_train.shape) \n",
    "print(\"test  data:\",'images:',x_img_test.shape ,\n",
    "      \" labels:\",y_label_test.shape) "
   ]
  },
  {
   "cell_type": "code",
   "execution_count": 4,
   "metadata": {
    "colab": {},
    "colab_type": "code",
    "id": "V3P6P4DXiUsV"
   },
   "outputs": [],
   "source": [
    "#資料正規化\n",
    "x_img_train_normalize = x_img_train.astype('float32') / 255.0\n",
    "x_img_test_normalize = x_img_test.astype('float32') / 255.0"
   ]
  },
  {
   "cell_type": "code",
   "execution_count": 5,
   "metadata": {
    "colab": {},
    "colab_type": "code",
    "id": "vsDyjKYliUsX"
   },
   "outputs": [
    {
     "data": {
      "text/plain": [
       "(10000, 10)"
      ]
     },
     "execution_count": 5,
     "metadata": {},
     "output_type": "execute_result"
    }
   ],
   "source": [
    "#針對Label 做 ONE HOT ENCODE\n",
    "from keras.utils import np_utils\n",
    "y_label_train_OneHot = np_utils.to_categorical(y_label_train)\n",
    "y_label_test_OneHot = np_utils.to_categorical(y_label_test)\n",
    "y_label_test_OneHot.shape"
   ]
  },
  {
   "cell_type": "markdown",
   "metadata": {
    "colab_type": "text",
    "id": "RutW2OtgiUsZ"
   },
   "source": [
    "# 建立模型"
   ]
  },
  {
   "cell_type": "code",
   "execution_count": 6,
   "metadata": {
    "colab": {},
    "colab_type": "code",
    "id": "aHz592aXiUsa"
   },
   "outputs": [],
   "source": [
    "from keras.models import Sequential\n",
    "from keras.layers import Dense, Dropout, Activation, Flatten\n",
    "from keras.layers import Conv2D, MaxPooling2D, ZeroPadding2D"
   ]
  },
  {
   "cell_type": "code",
   "execution_count": 7,
   "metadata": {
    "colab": {},
    "colab_type": "code",
    "id": "hslqrIp0iUse"
   },
   "outputs": [],
   "source": [
    "model = Sequential()"
   ]
  },
  {
   "cell_type": "code",
   "execution_count": 8,
   "metadata": {
    "colab": {},
    "colab_type": "code",
    "id": "Hqe35hs2iUsi"
   },
   "outputs": [],
   "source": [
    "#卷積層1"
   ]
  },
  {
   "cell_type": "code",
   "execution_count": 9,
   "metadata": {
    "colab": {},
    "colab_type": "code",
    "id": "ED7dqe1YiUsm"
   },
   "outputs": [
    {
     "name": "stdout",
     "output_type": "stream",
     "text": [
      "WARNING:tensorflow:From C:\\ProgramData\\Anaconda3\\lib\\site-packages\\tensorflow\\python\\framework\\op_def_library.py:263: colocate_with (from tensorflow.python.framework.ops) is deprecated and will be removed in a future version.\n",
      "Instructions for updating:\n",
      "Colocations handled automatically by placer.\n"
     ]
    }
   ],
   "source": [
    "model.add(Conv2D(filters=32,kernel_size=(3,3),\n",
    "                 input_shape=(32, 32,3), \n",
    "                 activation='relu', \n",
    "                 padding='same'))"
   ]
  },
  {
   "cell_type": "code",
   "execution_count": 10,
   "metadata": {
    "colab": {},
    "colab_type": "code",
    "id": "n-GRKmPViUso"
   },
   "outputs": [
    {
     "name": "stdout",
     "output_type": "stream",
     "text": [
      "WARNING:tensorflow:From C:\\ProgramData\\Anaconda3\\lib\\site-packages\\keras\\backend\\tensorflow_backend.py:3445: calling dropout (from tensorflow.python.ops.nn_ops) with keep_prob is deprecated and will be removed in a future version.\n",
      "Instructions for updating:\n",
      "Please use `rate` instead of `keep_prob`. Rate should be set to `rate = 1 - keep_prob`.\n"
     ]
    }
   ],
   "source": [
    "model.add(Dropout(rate=0.25))"
   ]
  },
  {
   "cell_type": "code",
   "execution_count": 11,
   "metadata": {
    "colab": {},
    "colab_type": "code",
    "id": "GlWnnD1uiUsw"
   },
   "outputs": [],
   "source": [
    "model.add(MaxPooling2D(pool_size=(2, 2)))"
   ]
  },
  {
   "cell_type": "code",
   "execution_count": 12,
   "metadata": {
    "colab": {},
    "colab_type": "code",
    "id": "nawlkt55iUsy"
   },
   "outputs": [],
   "source": [
    "#卷積層2與池化層2"
   ]
  },
  {
   "cell_type": "code",
   "execution_count": 13,
   "metadata": {
    "colab": {},
    "colab_type": "code",
    "id": "xxyETiKNiUs1"
   },
   "outputs": [],
   "source": [
    "model.add(Conv2D(filters=64, kernel_size=(3, 3), \n",
    "                 activation='relu', padding='same'))"
   ]
  },
  {
   "cell_type": "code",
   "execution_count": 14,
   "metadata": {
    "colab": {},
    "colab_type": "code",
    "id": "RqcKWtqGiUs2"
   },
   "outputs": [],
   "source": [
    "model.add(Dropout(0.25))"
   ]
  },
  {
   "cell_type": "code",
   "execution_count": 15,
   "metadata": {
    "colab": {},
    "colab_type": "code",
    "id": "BUOOzlqfiUs4"
   },
   "outputs": [],
   "source": [
    "model.add(MaxPooling2D(pool_size=(2, 2)))"
   ]
  },
  {
   "cell_type": "code",
   "execution_count": 16,
   "metadata": {
    "colab": {},
    "colab_type": "code",
    "id": "LpkppB2siUs7"
   },
   "outputs": [],
   "source": [
    "#建立神經網路(平坦層、隱藏層、輸出層)"
   ]
  },
  {
   "cell_type": "code",
   "execution_count": 17,
   "metadata": {
    "colab": {},
    "colab_type": "code",
    "id": "UQOfU54_iUs_"
   },
   "outputs": [],
   "source": [
    "model.add(Flatten())\n",
    "model.add(Dropout(rate=0.25))"
   ]
  },
  {
   "cell_type": "code",
   "execution_count": 18,
   "metadata": {
    "colab": {},
    "colab_type": "code",
    "id": "_NV-8sq4iUtD"
   },
   "outputs": [],
   "source": [
    "model.add(Dense(1024, activation='relu'))\n",
    "model.add(Dropout(rate=0.25))"
   ]
  },
  {
   "cell_type": "code",
   "execution_count": 19,
   "metadata": {
    "colab": {},
    "colab_type": "code",
    "id": "qVK77krOiUtF"
   },
   "outputs": [],
   "source": [
    "model.add(Dense(10, activation='softmax'))"
   ]
  },
  {
   "cell_type": "code",
   "execution_count": 20,
   "metadata": {
    "colab": {},
    "colab_type": "code",
    "id": "ZxzRIjR0iUtH"
   },
   "outputs": [
    {
     "name": "stdout",
     "output_type": "stream",
     "text": [
      "_________________________________________________________________\n",
      "Layer (type)                 Output Shape              Param #   \n",
      "=================================================================\n",
      "conv2d_1 (Conv2D)            (None, 32, 32, 32)        896       \n",
      "_________________________________________________________________\n",
      "dropout_1 (Dropout)          (None, 32, 32, 32)        0         \n",
      "_________________________________________________________________\n",
      "max_pooling2d_1 (MaxPooling2 (None, 16, 16, 32)        0         \n",
      "_________________________________________________________________\n",
      "conv2d_2 (Conv2D)            (None, 16, 16, 64)        18496     \n",
      "_________________________________________________________________\n",
      "dropout_2 (Dropout)          (None, 16, 16, 64)        0         \n",
      "_________________________________________________________________\n",
      "max_pooling2d_2 (MaxPooling2 (None, 8, 8, 64)          0         \n",
      "_________________________________________________________________\n",
      "flatten_1 (Flatten)          (None, 4096)              0         \n",
      "_________________________________________________________________\n",
      "dropout_3 (Dropout)          (None, 4096)              0         \n",
      "_________________________________________________________________\n",
      "dense_1 (Dense)              (None, 1024)              4195328   \n",
      "_________________________________________________________________\n",
      "dropout_4 (Dropout)          (None, 1024)              0         \n",
      "_________________________________________________________________\n",
      "dense_2 (Dense)              (None, 10)                10250     \n",
      "=================================================================\n",
      "Total params: 4,224,970\n",
      "Trainable params: 4,224,970\n",
      "Non-trainable params: 0\n",
      "_________________________________________________________________\n",
      "None\n"
     ]
    }
   ],
   "source": [
    "#檢查model 的STACK\n",
    "print(model.summary())"
   ]
  },
  {
   "cell_type": "code",
   "execution_count": 21,
   "metadata": {},
   "outputs": [],
   "source": [
    "def show_train_history(train_acc,test_acc):\n",
    "    plt.plot(train_history.history[train_acc])\n",
    "    plt.plot(train_history.history[test_acc])\n",
    "    plt.title('Train History')\n",
    "    plt.ylabel('Accuracy')\n",
    "    plt.xlabel('Epoch')\n",
    "    plt.legend(['train_acc', 'val_acc'], loc='upper left')\n",
    "    plt.show()"
   ]
  },
  {
   "cell_type": "markdown",
   "metadata": {
    "colab_type": "text",
    "id": "qBbCuziziUtM"
   },
   "source": [
    "# 訓練模型"
   ]
  },
  {
   "cell_type": "code",
   "execution_count": 22,
   "metadata": {
    "colab": {},
    "colab_type": "code",
    "id": "Q6BiBcseiUtP"
   },
   "outputs": [
    {
     "name": "stdout",
     "output_type": "stream",
     "text": [
      "WARNING:tensorflow:From C:\\ProgramData\\Anaconda3\\lib\\site-packages\\tensorflow\\python\\ops\\math_ops.py:3066: to_int32 (from tensorflow.python.ops.math_ops) is deprecated and will be removed in a future version.\n",
      "Instructions for updating:\n",
      "Use tf.cast instead.\n",
      "Train on 37500 samples, validate on 12500 samples\n",
      "Epoch 1/12\n",
      "37500/37500 [==============================] - 10s 266us/step - loss: 2.1650 - acc: 0.1986 - val_loss: 2.0517 - val_acc: 0.2961\n",
      "Epoch 2/12\n",
      "37500/37500 [==============================] - 4s 120us/step - loss: 1.9550 - acc: 0.2960 - val_loss: 1.9354 - val_acc: 0.3456\n",
      "Epoch 3/12\n",
      "37500/37500 [==============================] - 5s 127us/step - loss: 1.8341 - acc: 0.3472 - val_loss: 1.8422 - val_acc: 0.3818\n",
      "Epoch 4/12\n",
      "37500/37500 [==============================] - 5s 127us/step - loss: 1.7305 - acc: 0.3818 - val_loss: 1.7489 - val_acc: 0.4173\n",
      "Epoch 5/12\n",
      "37500/37500 [==============================] - 4s 119us/step - loss: 1.6496 - acc: 0.4101 - val_loss: 1.6807 - val_acc: 0.4401\n",
      "Epoch 6/12\n",
      "37500/37500 [==============================] - 4s 118us/step - loss: 1.5857 - acc: 0.4311 - val_loss: 1.6521 - val_acc: 0.4479\n",
      "Epoch 7/12\n",
      "37500/37500 [==============================] - 4s 117us/step - loss: 1.5310 - acc: 0.4537 - val_loss: 1.5880 - val_acc: 0.4749\n",
      "Epoch 8/12\n",
      "37500/37500 [==============================] - 4s 117us/step - loss: 1.4846 - acc: 0.4675 - val_loss: 1.5334 - val_acc: 0.4862\n",
      "Epoch 9/12\n",
      "37500/37500 [==============================] - 4s 117us/step - loss: 1.4453 - acc: 0.4821 - val_loss: 1.4749 - val_acc: 0.5126\n",
      "Epoch 10/12\n",
      "37500/37500 [==============================] - 4s 117us/step - loss: 1.4104 - acc: 0.4947 - val_loss: 1.4487 - val_acc: 0.5232\n",
      "Epoch 11/12\n",
      "37500/37500 [==============================] - 4s 117us/step - loss: 1.3811 - acc: 0.5061 - val_loss: 1.4403 - val_acc: 0.5350\n",
      "Epoch 12/12\n",
      "37500/37500 [==============================] - 4s 117us/step - loss: 1.3492 - acc: 0.5221 - val_loss: 1.4056 - val_acc: 0.5410\n"
     ]
    },
    {
     "data": {
      "image/png": "[encoded data removed]",
      "text/plain": [
       "<Figure size 432x288 with 1 Axes>"
      ]
     },
     "metadata": {
      "needs_background": "light"
     },
     "output_type": "display_data"
    }
   ],
   "source": [
    "model.compile(loss='categorical_crossentropy', optimizer='sgd', metrics=['accuracy'])\n",
    "train_history=model.fit(x_img_train_normalize, y_label_train_OneHot,\n",
    "                        validation_split=0.25,\n",
    "                        epochs=12, batch_size=128, verbose=1)   \n",
    "show_train_history('acc','val_acc')"
   ]
  },
  {
   "cell_type": "code",
   "execution_count": 24,
   "metadata": {
    "colab": {},
    "colab_type": "code",
    "id": "4-GdDgmQiUtS"
   },
   "outputs": [
    {
     "name": "stdout",
     "output_type": "stream",
     "text": [
      "Train on 37500 samples, validate on 12500 samples\n",
      "Epoch 1/12\n",
      "37500/37500 [==============================] - 5s 133us/step - loss: 0.2049 - acc: 0.9196 - val_loss: 0.2142 - val_acc: 0.9141\n",
      "Epoch 2/12\n",
      "37500/37500 [==============================] - 4s 117us/step - loss: 0.2040 - acc: 0.9199 - val_loss: 0.2131 - val_acc: 0.9149\n",
      "Epoch 3/12\n",
      "37500/37500 [==============================] - 4s 117us/step - loss: 0.2035 - acc: 0.9200 - val_loss: 0.2122 - val_acc: 0.9151\n",
      "Epoch 4/12\n",
      "37500/37500 [==============================] - 4s 116us/step - loss: 0.2026 - acc: 0.9202 - val_loss: 0.2121 - val_acc: 0.9151\n",
      "Epoch 5/12\n",
      "37500/37500 [==============================] - 4s 117us/step - loss: 0.2020 - acc: 0.9205 - val_loss: 0.2111 - val_acc: 0.9158\n",
      "Epoch 6/12\n",
      "37500/37500 [==============================] - 4s 118us/step - loss: 0.2019 - acc: 0.9206 - val_loss: 0.2110 - val_acc: 0.9162\n",
      "Epoch 7/12\n",
      "37500/37500 [==============================] - 4s 117us/step - loss: 0.2017 - acc: 0.9207 - val_loss: 0.2102 - val_acc: 0.9160\n",
      "Epoch 8/12\n",
      "37500/37500 [==============================] - 4s 120us/step - loss: 0.2010 - acc: 0.9210 - val_loss: 0.2104 - val_acc: 0.9158\n",
      "Epoch 9/12\n",
      "37500/37500 [==============================] - 4s 118us/step - loss: 0.2002 - acc: 0.9212 - val_loss: 0.2095 - val_acc: 0.9164\n",
      "Epoch 10/12\n",
      "37500/37500 [==============================] - 5s 121us/step - loss: 0.2001 - acc: 0.9212 - val_loss: 0.2093 - val_acc: 0.9164\n",
      "Epoch 11/12\n",
      "37500/37500 [==============================] - 4s 119us/step - loss: 0.1992 - acc: 0.9216 - val_loss: 0.2091 - val_acc: 0.9164\n",
      "Epoch 12/12\n",
      "37500/37500 [==============================] - 5s 128us/step - loss: 0.1987 - acc: 0.9220 - val_loss: 0.2086 - val_acc: 0.9165\n"
     ]
    },
    {
     "data": {
      "image/png": "[encoded data removed]",
      "text/plain": [
       "<Figure size 432x288 with 1 Axes>"
      ]
     },
     "metadata": {
      "needs_background": "light"
     },
     "output_type": "display_data"
    }
   ],
   "source": [
    "model.compile(loss='binary_crossentropy', optimizer='sgd', metrics=['accuracy'])\n",
    "train_history=model.fit(x_img_train_normalize, y_label_train_OneHot,\n",
    "                        validation_split=0.25,\n",
    "                        epochs=12, batch_size=128, verbose=1)   \n",
    "show_train_history('acc','val_acc')"
   ]
  },
  {
   "cell_type": "code",
   "execution_count": 25,
   "metadata": {},
   "outputs": [
    {
     "name": "stdout",
     "output_type": "stream",
     "text": [
      "Train on 37500 samples, validate on 12500 samples\n",
      "Epoch 1/12\n",
      "37500/37500 [==============================] - 5s 138us/step - loss: 0.0586 - acc: 0.5506 - val_loss: 0.0609 - val_acc: 0.5671\n",
      "Epoch 2/12\n",
      "37500/37500 [==============================] - 4s 120us/step - loss: 0.0584 - acc: 0.5511 - val_loss: 0.0609 - val_acc: 0.5666\n",
      "Epoch 3/12\n",
      "37500/37500 [==============================] - 4s 119us/step - loss: 0.0582 - acc: 0.5514 - val_loss: 0.0608 - val_acc: 0.5686\n",
      "Epoch 4/12\n",
      "37500/37500 [==============================] - 5s 124us/step - loss: 0.0587 - acc: 0.5471 - val_loss: 0.0608 - val_acc: 0.5689\n",
      "Epoch 5/12\n",
      "37500/37500 [==============================] - 5s 121us/step - loss: 0.0583 - acc: 0.5526 - val_loss: 0.0607 - val_acc: 0.5693\n",
      "Epoch 6/12\n",
      "37500/37500 [==============================] - 4s 117us/step - loss: 0.0583 - acc: 0.5522 - val_loss: 0.0607 - val_acc: 0.5680\n",
      "Epoch 7/12\n",
      "37500/37500 [==============================] - 4s 116us/step - loss: 0.0581 - acc: 0.5542 - val_loss: 0.0606 - val_acc: 0.5695\n",
      "Epoch 8/12\n",
      "37500/37500 [==============================] - 4s 117us/step - loss: 0.0582 - acc: 0.5537 - val_loss: 0.0606 - val_acc: 0.5697\n",
      "Epoch 9/12\n",
      "37500/37500 [==============================] - 5s 123us/step - loss: 0.0581 - acc: 0.5536 - val_loss: 0.0606 - val_acc: 0.5690\n",
      "Epoch 10/12\n",
      "37500/37500 [==============================] - 4s 118us/step - loss: 0.0580 - acc: 0.5557 - val_loss: 0.0605 - val_acc: 0.5713\n",
      "Epoch 11/12\n",
      "37500/37500 [==============================] - 5s 120us/step - loss: 0.0578 - acc: 0.5563 - val_loss: 0.0604 - val_acc: 0.5706\n",
      "Epoch 12/12\n",
      "37500/37500 [==============================] - 5s 122us/step - loss: 0.0580 - acc: 0.5534 - val_loss: 0.0604 - val_acc: 0.5702\n"
     ]
    },
    {
     "data": {
      "image/png": "[encoded data removed]",
      "text/plain": [
       "<Figure size 432x288 with 1 Axes>"
      ]
     },
     "metadata": {
      "needs_background": "light"
     },
     "output_type": "display_data"
    }
   ],
   "source": [
    "model.compile(loss='mean_squared_error', optimizer='sgd', metrics=['accuracy'])\n",
    "train_history=model.fit(x_img_train_normalize, y_label_train_OneHot,\n",
    "                        validation_split=0.25,\n",
    "                        epochs=12, batch_size=128, verbose=1)   \n",
    "show_train_history('acc','val_acc')"
   ]
  }
 ],
 "metadata": {
  "colab": {
   "name": "Day71-使用損失函數_HW.ipynb",
   "provenance": [],
   "version": "0.3.2"
  },
  "kernelspec": {
   "display_name": "Python 3",
   "language": "python",
   "name": "python3"
  },
  "language_info": {
   "codemirror_mode": {
    "name": "ipython",
    "version": 3
   },
   "file_extension": ".py",
   "mimetype": "text/x-python",
   "name": "python",
   "nbconvert_exporter": "python",
   "pygments_lexer": "ipython3",
   "version": "3.7.3"
  }
 },
 "nbformat": 4,
 "nbformat_minor": 1
}
